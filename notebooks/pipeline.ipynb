{
 "cells": [
  {
   "cell_type": "code",
   "execution_count": null,
   "metadata": {},
   "outputs": [],
   "source": [
    "%load_ext autoreload\n",
    "%autoreload 2"
   ]
  },
  {
   "cell_type": "code",
   "execution_count": null,
   "metadata": {},
   "outputs": [],
   "source": [
    "from src.metaculus import list_questions, get_all_question_details_from_ids, extract_ids_from_question_list, upload_predictions\n",
    "\n",
    "from src.config import LOGS_FILE_DIR\n",
    "\n",
    "from src.data_models.GroupSeparator import GroupSeparator\n",
    "from src.data_models.DetailsPreparation import DetailsPreparation\n",
    "from src.data_models.AskNewsFetcher import AskNewsFetcher\n",
    "from src.data_models.Forecaster import Forecaster\n",
    "from src.data_models.HtmlContentProcessor import HtmlContentProcessor"
   ]
  },
  {
   "cell_type": "code",
   "execution_count": null,
   "metadata": {},
   "outputs": [],
   "source": [
    "TOURNAMENT_ID = 3349\n",
    "question_list = list_questions(TOURNAMENT_ID)\n",
    "question_ids = extract_ids_from_question_list(question_list, drop_predicted=True)\n",
    "question_details_dict = get_all_question_details_from_ids(question_ids)"
   ]
  },
  {
   "cell_type": "code",
   "execution_count": null,
   "metadata": {},
   "outputs": [],
   "source": [
    "question_ids = [26702, 26700, 26701]\n",
    "question_details_dict = get_all_question_details_from_ids(question_ids)"
   ]
  },
  {
   "cell_type": "code",
   "execution_count": null,
   "metadata": {},
   "outputs": [],
   "source": [
    "# Celda informativa\n",
    "from src.metaculus import extract_questions\n",
    "extract_questions(question_details_dict)"
   ]
  },
  {
   "cell_type": "code",
   "execution_count": null,
   "metadata": {},
   "outputs": [],
   "source": [
    "# Celda informativa\n",
    "group_separator = GroupSeparator(question_ids)\n",
    "group_separator.fetch_grouping_response()\n",
    "groups_dictionary = group_separator.grouped_questions"
   ]
  },
  {
   "cell_type": "code",
   "execution_count": null,
   "metadata": {},
   "outputs": [],
   "source": [
    "groups_dictionary"
   ]
  },
  {
   "cell_type": "code",
   "execution_count": null,
   "metadata": {},
   "outputs": [],
   "source": [
    "# Acá se debería entrar en un ciclo así:\n",
    "question_details_dict = group_separator.question_details_dict\n",
    "for group_title, question_ids in groups_dictionary.items():\n",
    "    print(f\"... processo el grupo {group_title} con ids {question_ids} ...\")"
   ]
  },
  {
   "cell_type": "markdown",
   "metadata": {},
   "source": [
    "### Acá lo que iría adentro del ciclo"
   ]
  },
  {
   "cell_type": "code",
   "execution_count": null,
   "metadata": {},
   "outputs": [],
   "source": [
    "i = 0\n",
    "group_names_list = list(groups_dictionary.keys())\n",
    "group_title = group_names_list[i]\n",
    "question_ids = groups_dictionary[group_title]\n",
    "print(f\"... processo el grupo '{group_title}' con ids {question_ids} ...\")"
   ]
  },
  {
   "cell_type": "code",
   "execution_count": null,
   "metadata": {},
   "outputs": [],
   "source": [
    "# Check data question_details_dict\n",
    "if question_details_dict is None:\n",
    "    question_details_dict = get_all_question_details_from_ids(question_ids)\n",
    "else:\n",
    "    assert all([q_id in question_details_dict for q_id in question_ids]\n",
    "                ), \"All question_ids must be keys in question_details_dict\""
   ]
  },
  {
   "cell_type": "code",
   "execution_count": null,
   "metadata": {},
   "outputs": [],
   "source": [
    "details_preparator = DetailsPreparation(question_ids, question_details_dict)\n",
    "details_preparator.fetch_detail_unification_response()"
   ]
  },
  {
   "cell_type": "code",
   "execution_count": null,
   "metadata": {},
   "outputs": [],
   "source": [
    "htmlProcesor = HtmlContentProcessor(details_preparator)\n",
    "htmlProcesor.run()"
   ]
  },
  {
   "cell_type": "code",
   "execution_count": null,
   "metadata": {},
   "outputs": [],
   "source": [
    "if group_title is None:\n",
    "    print(\"This should not be printed\")\n",
    "    group_title = details_preparator.unified_details.get(\"title\")"
   ]
  },
  {
   "cell_type": "code",
   "execution_count": null,
   "metadata": {},
   "outputs": [],
   "source": [
    "news = AskNewsFetcher(group_title)\n",
    "news.fetch_articles()"
   ]
  },
  {
   "cell_type": "code",
   "execution_count": null,
   "metadata": {},
   "outputs": [],
   "source": [
    "forecaster = Forecaster(details_preparator, news)\n",
    "forecaster.fetch_forecast_response()\n",
    "forecaster.persist_forecast(f\"{LOGS_FILE_DIR}/forecasts\")"
   ]
  },
  {
   "cell_type": "code",
   "execution_count": null,
   "metadata": {},
   "outputs": [],
   "source": [
    "forecaster.parse_forecast_response()"
   ]
  },
  {
   "cell_type": "code",
   "execution_count": null,
   "metadata": {},
   "outputs": [],
   "source": [
    "forecaster.forecast_dict"
   ]
  },
  {
   "cell_type": "markdown",
   "metadata": {},
   "source": [
    "Postea el forecast:"
   ]
  },
  {
   "cell_type": "code",
   "execution_count": null,
   "metadata": {},
   "outputs": [],
   "source": [
    "upload_predictions(question_ids, forecaster.forecast_dict[\"forecasts\"], forecaster.forecast_dict[\"summaries\"])\n",
    "#if \"Validation failed: Critical information missing\" not in forecaster.forecast_response.content:\n",
    "#    print(\"Todo ok para upload\")\n",
    "#    upload_predictions(question_ids, forecaster.forecast_dict[\"forecasts\"], forecaster.forecast_dict[\"summaries\"])\n",
    "#else:\n",
    "#    print(\"No se puede subir el pronóstico por falta de información crítica\")"
   ]
  }
 ],
 "metadata": {
  "kernelspec": {
   "display_name": "Python 3",
   "language": "python",
   "name": "python3"
  },
  "language_info": {
   "codemirror_mode": {
    "name": "ipython",
    "version": 3
   },
   "file_extension": ".py",
   "mimetype": "text/x-python",
   "name": "python",
   "nbconvert_exporter": "python",
   "pygments_lexer": "ipython3",
   "version": "3.12.4"
  }
 },
 "nbformat": 4,
 "nbformat_minor": 2
}
